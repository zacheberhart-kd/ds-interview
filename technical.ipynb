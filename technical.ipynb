{
 "metadata": {
  "language_info": {
   "codemirror_mode": {
    "name": "ipython",
    "version": 3
   },
   "file_extension": ".py",
   "mimetype": "text/x-python",
   "name": "python",
   "nbconvert_exporter": "python",
   "pygments_lexer": "ipython3",
   "version": "3.8.5-final"
  },
  "orig_nbformat": 2,
  "kernelspec": {
   "name": "python3",
   "display_name": "Python 3",
   "language": "python"
  }
 },
 "nbformat": 4,
 "nbformat_minor": 2,
 "cells": [
  {
   "cell_type": "code",
   "execution_count": 1,
   "metadata": {},
   "outputs": [],
   "source": [
    "import numpy as np\n",
    "import pandas as pd"
   ]
  },
  {
   "source": [
    "# Technical Interview"
   ],
   "cell_type": "markdown",
   "metadata": {}
  },
  {
   "source": [
    "## Question 1\n",
    "\n",
    "Please use `pandas` to create a joint view of the two data sources:\n",
    " - ID and identifier refer the same thing\n",
    " - Final table should include only the IDs common to both data sources"
   ],
   "cell_type": "markdown",
   "metadata": {}
  },
  {
   "cell_type": "code",
   "execution_count": null,
   "metadata": {},
   "outputs": [],
   "source": [
    "dummy_data1 = {\n",
    "    'id': ['1', '2', '3', '4', '5'],\n",
    "    'Grade1': ['A', 'C', 'B', 'A', 'C'],\n",
    "    'Grade2': ['A', 'B', 'B', 'B', 'C'],\n",
    "}\n",
    "\n",
    "dummy_data2 = {\n",
    "    'identifier': ['1', '2', '6', '7', '8'],\n",
    "    'rate1': [1, 3, 2, 2, 1],\n",
    "    'rate2': [1, 2, 3, 2, 1]\n",
    "}"
   ]
  },
  {
   "cell_type": "code",
   "execution_count": null,
   "metadata": {},
   "outputs": [],
   "source": [
    "## code here"
   ]
  },
  {
   "cell_type": "code",
   "execution_count": null,
   "metadata": {},
   "outputs": [],
   "source": []
  },
  {
   "source": [
    "## Question 2\n",
    "\n",
    "Create a view where the index is `content_id` and a column `tag` which includes a list of the all tags with that `content_id` (for `content_id=1` `tag`: `cool`,`nice`)"
   ],
   "cell_type": "markdown",
   "metadata": {}
  },
  {
   "cell_type": "code",
   "execution_count": null,
   "metadata": {},
   "outputs": [],
   "source": [
    "df = pd.DataFrame({\n",
    "    'user_id':[1, 2, 1, 3, 3],\n",
    "    'content_id':[1, 1, 2, 2, 2],\n",
    "    'tag':['cool', 'nice', 'nice', 'clever', 'not-bad'],\n",
    "})"
   ]
  },
  {
   "cell_type": "code",
   "execution_count": null,
   "metadata": {},
   "outputs": [],
   "source": [
    "## code here"
   ]
  },
  {
   "cell_type": "code",
   "execution_count": null,
   "metadata": {},
   "outputs": [],
   "source": []
  },
  {
   "source": [
    "## Question 3\n",
    "\n",
    "Load `data.csv` into a `DataFrame` and we'll explore together."
   ],
   "cell_type": "markdown",
   "metadata": {}
  },
  {
   "cell_type": "code",
   "execution_count": null,
   "metadata": {},
   "outputs": [],
   "source": [
    "## code here"
   ]
  },
  {
   "cell_type": "code",
   "execution_count": null,
   "metadata": {},
   "outputs": [],
   "source": []
  }
 ]
}